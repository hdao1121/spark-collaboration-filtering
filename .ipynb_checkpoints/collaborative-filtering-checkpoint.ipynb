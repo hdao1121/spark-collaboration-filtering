{
 "cells": [
  {
   "cell_type": "code",
   "execution_count": 9,
   "metadata": {},
   "outputs": [],
   "source": [
    "from math import sqrt\n",
    "from pyspark import SparkConf, SparkContext\n",
    "import os \n",
    "\n",
    "\n",
    "os.environ[\"PYSPARK_PYTHON\"]=\"python3\"\n",
    "os.environ[\"PYSPARK_DRIVER_PYTHON\"]=\"python3\""
   ]
  },
  {
   "cell_type": "code",
   "execution_count": null,
   "metadata": {},
   "outputs": [],
   "source": [
    "def filterDuplicates(userRatings):\n",
    "    ratings = userRatings[1]\n",
    "    (item1, rating1) = ratings[0]\n",
    "    (item2, rating2) = ratings[1]\n",
    "    return item1 < item2"
   ]
  },
  {
   "cell_type": "code",
   "execution_count": null,
   "metadata": {},
   "outputs": [],
   "source": [
    "def extractRatings(userRatings):\n",
    "    rating = userRatings[1]\n",
    "    (item1, rating1) = rating[0]\n",
    "    (item2, rating2) = rating[1]\n",
    "    return ((item1, item2), (rating1, rating2))"
   ]
  },
  {
   "cell_type": "code",
   "execution_count": 11,
   "metadata": {},
   "outputs": [],
   "source": [
    "# (A • B ) / (||A|| ||B||)\n",
    "def cosineSimilarity(ratingPairs):\n",
    "    numbOfRatings = 0\n",
    "    score = 0\n",
    "    sumbAB, sumAA, sumBB = 0\n",
    "    for itemA, itemB in ratingPairs:\n",
    "        numbOfRatings += 1\n",
    "        sumAB += squareA + squareB\n",
    "        sumAA += itemA**2\n",
    "        sumBB += itemB**2\n",
    "    \n",
    "    numerator = sumAB\n",
    "    denominator = float(sqrt(sumAA * sumBB))\n",
    "    \n",
    "    if (denominator > 0):\n",
    "        score = numerator / denominator\n",
    "    \n",
    "    return (score, numbOfRatings)"
   ]
  },
  {
   "cell_type": "code",
   "execution_count": null,
   "metadata": {},
   "outputs": [],
   "source": [
    "#Set up\n",
    "conf = SparkConf().setMaster(\"local[*]\").setAppName(\"Collaborative-Filtering\")\n",
    "sc = SparkContext(conf = conf)\n",
    "inputFile = sc.textFile(\"test-data/u.data\")"
   ]
  },
  {
   "cell_type": "code",
   "execution_count": null,
   "metadata": {},
   "outputs": [],
   "source": [
    "#Main code\n",
    "\n",
    "# Map => (userId, (movieId, rating))\n",
    "ratings = data.map(lambda x: x.split()).map(lambda x: (int(x[0]), (int(x[1]), int(x[2]))))\n",
    "\n",
    "# Find every combination of rating => (userId, ((itemId, rating), (itemId, rating)))\n",
    "joinedRatings = ratings.join(ratings)\n",
    "\n",
    "uniqueRatings = joinedRatings.filter(filterDuplicates)\n",
    "\n",
    "# Extract ratings => ((item1, item2), (rating1, rating2))\n",
    "itemPairs = uniqueJoinedRatings.map(extractRatings)\n",
    "\n",
    "# Map => ((item1, item2), ((rating1, rating2), (rating1, rating2), ...)\n",
    "pairRatings = itemPairs.groupByKey()\n",
    "\n",
    "# Compute similarities => ((item1, item2), (score, numbOfRatings))\n",
    "pairSimilarities = pairRatings.mapValues()"
   ]
  }
 ],
 "metadata": {
  "kernelspec": {
   "display_name": "Python 3",
   "language": "python",
   "name": "python3"
  },
  "language_info": {
   "codemirror_mode": {
    "name": "ipython",
    "version": 3
   },
   "file_extension": ".py",
   "mimetype": "text/x-python",
   "name": "python",
   "nbconvert_exporter": "python",
   "pygments_lexer": "ipython3",
   "version": "3.6.4"
  }
 },
 "nbformat": 4,
 "nbformat_minor": 2
}
